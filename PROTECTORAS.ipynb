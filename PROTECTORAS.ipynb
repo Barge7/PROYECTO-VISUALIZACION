{
 "cells": [
  {
   "cell_type": "code",
   "execution_count": 1,
   "id": "2d127a60",
   "metadata": {},
   "outputs": [],
   "source": [
    "import pandas as pd\n",
    "pd.set_option('display.max_columns', None)\n",
    "import warnings\n",
    "warnings.filterwarnings('ignore')"
   ]
  },
  {
   "cell_type": "code",
   "execution_count": 2,
   "id": "82b32425",
   "metadata": {},
   "outputs": [],
   "source": [
    "colnames= ('ID', 'NOMBRE', 'UBICACION', 'CONTACTO')\n",
    "protectoras = pd.DataFrame(columns=colnames)"
   ]
  },
  {
   "cell_type": "code",
   "execution_count": 3,
   "id": "480a3c8e",
   "metadata": {},
   "outputs": [],
   "source": [
    "elrefugio= {'ID': 1, 'NOMBRE': 'El Refugio', 'UBICACION': 'MADRID', 'CONTACTO': '(+34) 91 730 3680'}\n",
    "protectoras = protectoras.append(elrefugio, ignore_index = True)"
   ]
  },
  {
   "cell_type": "code",
   "execution_count": 4,
   "id": "4110e7ab",
   "metadata": {},
   "outputs": [],
   "source": [
    "acunr= {'ID': 2, 'NOMBRE': 'ACUNR', 'UBICACION': 'MADRID', 'CONTACTO': 'acunrmadrid@gmail.com'}\n",
    "protectoras = protectoras.append(acunr, ignore_index = True)\n"
   ]
  },
  {
   "cell_type": "code",
   "execution_count": 5,
   "id": "dcc65ac1",
   "metadata": {},
   "outputs": [
    {
     "data": {
      "text/html": [
       "<div>\n",
       "<style scoped>\n",
       "    .dataframe tbody tr th:only-of-type {\n",
       "        vertical-align: middle;\n",
       "    }\n",
       "\n",
       "    .dataframe tbody tr th {\n",
       "        vertical-align: top;\n",
       "    }\n",
       "\n",
       "    .dataframe thead th {\n",
       "        text-align: right;\n",
       "    }\n",
       "</style>\n",
       "<table border=\"1\" class=\"dataframe\">\n",
       "  <thead>\n",
       "    <tr style=\"text-align: right;\">\n",
       "      <th></th>\n",
       "      <th>ID</th>\n",
       "      <th>NOMBRE</th>\n",
       "      <th>UBICACION</th>\n",
       "      <th>CONTACTO</th>\n",
       "    </tr>\n",
       "  </thead>\n",
       "  <tbody>\n",
       "    <tr>\n",
       "      <th>0</th>\n",
       "      <td>1</td>\n",
       "      <td>El Refugio</td>\n",
       "      <td>MADRID</td>\n",
       "      <td>(+34) 91 730 3680</td>\n",
       "    </tr>\n",
       "    <tr>\n",
       "      <th>1</th>\n",
       "      <td>2</td>\n",
       "      <td>ACUNR</td>\n",
       "      <td>MADRID</td>\n",
       "      <td>acunrmadrid@gmail.com</td>\n",
       "    </tr>\n",
       "  </tbody>\n",
       "</table>\n",
       "</div>"
      ],
      "text/plain": [
       "  ID      NOMBRE UBICACION               CONTACTO\n",
       "0  1  El Refugio    MADRID      (+34) 91 730 3680\n",
       "1  2       ACUNR    MADRID  acunrmadrid@gmail.com"
      ]
     },
     "execution_count": 5,
     "metadata": {},
     "output_type": "execute_result"
    }
   ],
   "source": [
    "protectoras"
   ]
  }
 ],
 "metadata": {
  "kernelspec": {
   "display_name": "Python 3 (ipykernel)",
   "language": "python",
   "name": "python3"
  },
  "language_info": {
   "codemirror_mode": {
    "name": "ipython",
    "version": 3
   },
   "file_extension": ".py",
   "mimetype": "text/x-python",
   "name": "python",
   "nbconvert_exporter": "python",
   "pygments_lexer": "ipython3",
   "version": "3.9.12"
  }
 },
 "nbformat": 4,
 "nbformat_minor": 5
}
