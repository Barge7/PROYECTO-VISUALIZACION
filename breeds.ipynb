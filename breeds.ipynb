{
 "cells": [
  {
   "cell_type": "code",
   "execution_count": 1,
   "id": "9aab636f",
   "metadata": {},
   "outputs": [],
   "source": [
    "import pandas as pd\n",
    "pd.set_option('display.max_columns', None)\n",
    "import warnings\n",
    "warnings.filterwarnings('ignore')\n",
    "import time\n",
    "from tqdm import tqdm\n",
    "from IPython.display import Image\n",
    "import regex as re\n",
    "from IPython.core.display import display,HTML\n",
    "from joblib import Parallel, delayed\n",
    "from datetime import datetime\n",
    "from selenium import webdriver\n",
    "from selenium.webdriver.common.by import By\n",
    "from webdriver_manager.chrome import ChromeDriverManager\n",
    "PATH=ChromeDriverManager().install()\n",
    "import requests as req"
   ]
  },
  {
   "cell_type": "code",
   "execution_count": 2,
   "id": "68f52d09",
   "metadata": {},
   "outputs": [],
   "source": [
    "url = 'https://api.thedogapi.com/v1/breeds?attach_breed=0'"
   ]
  },
  {
   "cell_type": "code",
   "execution_count": 3,
   "id": "1ce4fcdf",
   "metadata": {},
   "outputs": [
    {
     "data": {
      "text/plain": [
       "<Response [200]>"
      ]
     },
     "execution_count": 3,
     "metadata": {},
     "output_type": "execute_result"
    }
   ],
   "source": [
    "res = req.get(url)\n",
    "res"
   ]
  },
  {
   "cell_type": "code",
   "execution_count": 4,
   "id": "76123001",
   "metadata": {},
   "outputs": [],
   "source": [
    "res.json()"
   ]
  },
  {
   "cell_type": "code",
   "execution_count": 5,
   "id": "1901c43f",
   "metadata": {},
   "outputs": [],
   "source": [
    "breed = pd.DataFrame(res.json())"
   ]
  },
  {
   "cell_type": "code",
   "execution_count": 6,
   "id": "75e9a5e4",
   "metadata": {},
   "outputs": [],
   "source": [
    "breed.drop(['weight', 'height', 'reference_image_id', 'country_code', 'description', 'history', 'image'], axis = 1, inplace = True)"
   ]
  },
  {
   "cell_type": "code",
   "execution_count": 7,
   "id": "6c456275",
   "metadata": {},
   "outputs": [
    {
     "data": {
      "text/html": [
       "<div>\n",
       "<style scoped>\n",
       "    .dataframe tbody tr th:only-of-type {\n",
       "        vertical-align: middle;\n",
       "    }\n",
       "\n",
       "    .dataframe tbody tr th {\n",
       "        vertical-align: top;\n",
       "    }\n",
       "\n",
       "    .dataframe thead th {\n",
       "        text-align: right;\n",
       "    }\n",
       "</style>\n",
       "<table border=\"1\" class=\"dataframe\">\n",
       "  <thead>\n",
       "    <tr style=\"text-align: right;\">\n",
       "      <th></th>\n",
       "      <th>id</th>\n",
       "      <th>name</th>\n",
       "      <th>bred_for</th>\n",
       "      <th>breed_group</th>\n",
       "      <th>life_span</th>\n",
       "      <th>temperament</th>\n",
       "      <th>origin</th>\n",
       "    </tr>\n",
       "  </thead>\n",
       "  <tbody>\n",
       "    <tr>\n",
       "      <th>0</th>\n",
       "      <td>1</td>\n",
       "      <td>Affenpinscher</td>\n",
       "      <td>Small rodent hunting, lapdog</td>\n",
       "      <td>Toy</td>\n",
       "      <td>10 - 12 years</td>\n",
       "      <td>Stubborn, Curious, Playful, Adventurous, Activ...</td>\n",
       "      <td>Germany, France</td>\n",
       "    </tr>\n",
       "    <tr>\n",
       "      <th>1</th>\n",
       "      <td>2</td>\n",
       "      <td>Afghan Hound</td>\n",
       "      <td>Coursing and hunting</td>\n",
       "      <td>Hound</td>\n",
       "      <td>10 - 13 years</td>\n",
       "      <td>Aloof, Clownish, Dignified, Independent, Happy</td>\n",
       "      <td>Afghanistan, Iran, Pakistan</td>\n",
       "    </tr>\n",
       "    <tr>\n",
       "      <th>2</th>\n",
       "      <td>3</td>\n",
       "      <td>African Hunting Dog</td>\n",
       "      <td>A wild pack animal</td>\n",
       "      <td>NaN</td>\n",
       "      <td>11 years</td>\n",
       "      <td>Wild, Hardworking, Dutiful</td>\n",
       "      <td></td>\n",
       "    </tr>\n",
       "    <tr>\n",
       "      <th>3</th>\n",
       "      <td>4</td>\n",
       "      <td>Airedale Terrier</td>\n",
       "      <td>Badger, otter hunting</td>\n",
       "      <td>Terrier</td>\n",
       "      <td>10 - 13 years</td>\n",
       "      <td>Outgoing, Friendly, Alert, Confident, Intellig...</td>\n",
       "      <td>United Kingdom, England</td>\n",
       "    </tr>\n",
       "    <tr>\n",
       "      <th>4</th>\n",
       "      <td>5</td>\n",
       "      <td>Akbash Dog</td>\n",
       "      <td>Sheep guarding</td>\n",
       "      <td>Working</td>\n",
       "      <td>10 - 12 years</td>\n",
       "      <td>Loyal, Independent, Intelligent, Brave</td>\n",
       "      <td></td>\n",
       "    </tr>\n",
       "  </tbody>\n",
       "</table>\n",
       "</div>"
      ],
      "text/plain": [
       "   id                 name                      bred_for breed_group  \\\n",
       "0   1        Affenpinscher  Small rodent hunting, lapdog         Toy   \n",
       "1   2         Afghan Hound          Coursing and hunting       Hound   \n",
       "2   3  African Hunting Dog            A wild pack animal         NaN   \n",
       "3   4     Airedale Terrier         Badger, otter hunting     Terrier   \n",
       "4   5           Akbash Dog                Sheep guarding     Working   \n",
       "\n",
       "       life_span                                        temperament  \\\n",
       "0  10 - 12 years  Stubborn, Curious, Playful, Adventurous, Activ...   \n",
       "1  10 - 13 years     Aloof, Clownish, Dignified, Independent, Happy   \n",
       "2       11 years                         Wild, Hardworking, Dutiful   \n",
       "3  10 - 13 years  Outgoing, Friendly, Alert, Confident, Intellig...   \n",
       "4  10 - 12 years             Loyal, Independent, Intelligent, Brave   \n",
       "\n",
       "                        origin  \n",
       "0              Germany, France  \n",
       "1  Afghanistan, Iran, Pakistan  \n",
       "2                               \n",
       "3      United Kingdom, England  \n",
       "4                               "
      ]
     },
     "execution_count": 7,
     "metadata": {},
     "output_type": "execute_result"
    }
   ],
   "source": [
    "breed.head()"
   ]
  },
  {
   "cell_type": "code",
   "execution_count": 9,
   "id": "a53b4fb8",
   "metadata": {},
   "outputs": [
    {
     "data": {
      "text/plain": [
       "(172, 7)"
      ]
     },
     "execution_count": 9,
     "metadata": {},
     "output_type": "execute_result"
    }
   ],
   "source": [
    "breed.shape"
   ]
  }
 ],
 "metadata": {
  "kernelspec": {
   "display_name": "Python 3 (ipykernel)",
   "language": "python",
   "name": "python3"
  },
  "language_info": {
   "codemirror_mode": {
    "name": "ipython",
    "version": 3
   },
   "file_extension": ".py",
   "mimetype": "text/x-python",
   "name": "python",
   "nbconvert_exporter": "python",
   "pygments_lexer": "ipython3",
   "version": "3.9.12"
  }
 },
 "nbformat": 4,
 "nbformat_minor": 5
}
